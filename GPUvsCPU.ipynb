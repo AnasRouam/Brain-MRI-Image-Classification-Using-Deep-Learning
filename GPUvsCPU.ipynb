{
 "cells": [
  {
   "cell_type": "markdown",
   "id": "66629173-ee39-43df-8629-296bd791fa3c",
   "metadata": {},
   "source": [
    "# Calculating the difference of training speed between my personal CPU and GPU\n",
    " - CPU: Intel Core i7-H8750 2.2GHz 12CPUs\n",
    " - GPU: NVIDIA GeForce GTX 1050 Ti 4GB Driver 512.78\n",
    " \n",
    "## The model trained:\n",
    " - 3 * (2D Convolutional, Batch Normalization, Max Pooling and Flatten for the last one) and 2 Dense layers\n",
    " - Total trainable parameteres: 226K\n",
    " - Batch Size: 64\n",
    " - Epochs: 10\n",
    " - Optimizer: Adam"
   ]
  },
  {
   "cell_type": "code",
   "execution_count": 5,
   "id": "b8c38be3-84fc-4ef6-b55d-6e4691c49e5c",
   "metadata": {},
   "outputs": [],
   "source": [
    "import time\n",
    "import tensorflow as tf\n",
    "from tensorflow.keras.models import Sequential\n",
    "from tensorflow.keras.layers import Conv2D, MaxPooling2D, Flatten, Dense, BatchNormalization, Input\n",
    "from tensorflow.keras.optimizers import Adam"
   ]
  },
  {
   "cell_type": "code",
   "execution_count": 2,
   "id": "415c00e6-ea7c-469f-abed-42db845ea66e",
   "metadata": {},
   "outputs": [],
   "source": [
    "(x_train, y_train), (x_test, y_test) = tf.keras.datasets.cifar10.load_data()\n",
    "x_train = x_train.astype(\"float32\") / 255.0\n",
    "x_test = x_test.astype(\"float32\") / 255.0"
   ]
  },
  {
   "cell_type": "code",
   "execution_count": 3,
   "id": "af23a496-a866-4f46-8876-b8118f50693e",
   "metadata": {},
   "outputs": [],
   "source": [
    "def build_and_train_model(device):\n",
    "    with tf.device(device):\n",
    "        # Define the model\n",
    "        inputs = Input(shape=(32, 32, 3))\n",
    "        x = Conv2D(32, 3)(inputs)\n",
    "        x = BatchNormalization()(x)\n",
    "        x = tf.nn.relu(x)\n",
    "        x = MaxPooling2D()(x)\n",
    "        x = Conv2D(64, 3)(x)\n",
    "        x = BatchNormalization()(x)\n",
    "        x = tf.nn.relu(x)\n",
    "        x = MaxPooling2D()(x)\n",
    "        x = Conv2D(128, 3)(x)\n",
    "        x = BatchNormalization()(x)\n",
    "        x = tf.nn.relu(x)\n",
    "        x = Flatten()(x)\n",
    "        x = Dense(64, activation=\"relu\")(x)\n",
    "        outputs = Dense(10)(x)\n",
    "        model = tf.keras.Model(inputs=inputs, outputs=outputs)\n",
    "\n",
    "        # Compile the model\n",
    "        model.compile(\n",
    "            loss=tf.keras.losses.SparseCategoricalCrossentropy(from_logits=True),\n",
    "            optimizer=Adam(),\n",
    "            metrics=[\"accuracy\"],\n",
    "        )\n",
    "\n",
    "        # Measure training time\n",
    "        start_time = time.time()\n",
    "        history = model.fit(x_train, y_train, batch_size=64, epochs=10, verbose=2)\n",
    "        end_time = time.time()\n",
    "\n",
    "        # Calculate elapsed time\n",
    "        training_time = end_time - start_time\n",
    "        print(f\"Training time on {device}: {training_time:.2f} seconds\")\n",
    "\n",
    "        # Evaluate the model\n",
    "        test_loss, test_acc = model.evaluate(x_test, y_test, batch_size=64, verbose=2)\n",
    "        print(f\"Test Accuracy on {device}: {test_acc:.2f}\")\n",
    "\n",
    "    return training_time, test_acc"
   ]
  },
  {
   "cell_type": "code",
   "execution_count": 6,
   "id": "d61711d4-d7d7-4684-86bc-0dbdf40df6aa",
   "metadata": {},
   "outputs": [
    {
     "name": "stdout",
     "output_type": "stream",
     "text": [
      "Epoch 1/10\n",
      "782/782 - 53s - loss: 1.2623 - accuracy: 0.5483 - 53s/epoch - 68ms/step\n",
      "Epoch 2/10\n",
      "782/782 - 46s - loss: 0.8748 - accuracy: 0.6927 - 46s/epoch - 59ms/step\n",
      "Epoch 3/10\n",
      "782/782 - 45s - loss: 0.7368 - accuracy: 0.7411 - 45s/epoch - 58ms/step\n",
      "Epoch 4/10\n",
      "782/782 - 45s - loss: 0.6416 - accuracy: 0.7761 - 45s/epoch - 58ms/step\n",
      "Epoch 5/10\n",
      "782/782 - 45s - loss: 0.5652 - accuracy: 0.8028 - 45s/epoch - 58ms/step\n",
      "Epoch 6/10\n",
      "782/782 - 45s - loss: 0.4999 - accuracy: 0.8257 - 45s/epoch - 58ms/step\n",
      "Epoch 7/10\n",
      "782/782 - 45s - loss: 0.4366 - accuracy: 0.8477 - 45s/epoch - 58ms/step\n",
      "Epoch 8/10\n",
      "782/782 - 46s - loss: 0.3849 - accuracy: 0.8654 - 46s/epoch - 59ms/step\n",
      "Epoch 9/10\n",
      "782/782 - 45s - loss: 0.3344 - accuracy: 0.8817 - 45s/epoch - 57ms/step\n",
      "Epoch 10/10\n",
      "782/782 - 45s - loss: 0.2902 - accuracy: 0.8975 - 45s/epoch - 58ms/step\n",
      "Training time on /CPU:0: 470.19 seconds\n",
      "157/157 - 2s - loss: 0.9719 - accuracy: 0.7326 - 2s/epoch - 16ms/step\n",
      "Test Accuracy on /CPU:0: 0.73\n",
      "Epoch 1/10\n",
      "782/782 - 21s - loss: 1.2405 - accuracy: 0.5573 - 21s/epoch - 26ms/step\n",
      "Epoch 2/10\n",
      "782/782 - 7s - loss: 0.8742 - accuracy: 0.6941 - 7s/epoch - 9ms/step\n",
      "Epoch 3/10\n",
      "782/782 - 7s - loss: 0.7332 - accuracy: 0.7440 - 7s/epoch - 8ms/step\n",
      "Epoch 4/10\n",
      "782/782 - 7s - loss: 0.6387 - accuracy: 0.7772 - 7s/epoch - 9ms/step\n",
      "Epoch 5/10\n",
      "782/782 - 7s - loss: 0.5589 - accuracy: 0.8053 - 7s/epoch - 9ms/step\n",
      "Epoch 6/10\n",
      "782/782 - 7s - loss: 0.4873 - accuracy: 0.8299 - 7s/epoch - 9ms/step\n",
      "Epoch 7/10\n",
      "782/782 - 7s - loss: 0.4301 - accuracy: 0.8493 - 7s/epoch - 9ms/step\n",
      "Epoch 8/10\n",
      "782/782 - 7s - loss: 0.3704 - accuracy: 0.8710 - 7s/epoch - 9ms/step\n",
      "Epoch 9/10\n",
      "782/782 - 7s - loss: 0.3269 - accuracy: 0.8864 - 7s/epoch - 9ms/step\n",
      "Epoch 10/10\n",
      "782/782 - 7s - loss: 0.2768 - accuracy: 0.9035 - 7s/epoch - 9ms/step\n",
      "Training time on /GPU:0: 86.31 seconds\n",
      "157/157 - 1s - loss: 0.9724 - accuracy: 0.7393 - 1s/epoch - 8ms/step\n",
      "Test Accuracy on /GPU:0: 0.74\n",
      "CPU Training Time: 470.19 seconds, Accuracy: 0.73\n",
      "GPU Training Time: 86.31 seconds, Accuracy: 0.74\n"
     ]
    }
   ],
   "source": [
    "cpu_time, cpu_accuracy = build_and_train_model('/CPU:0')\n",
    "gpu_time, gpu_accuracy = build_and_train_model('/GPU:0')\n",
    "\n",
    "print(f\"CPU Training Time: {cpu_time:.2f} seconds, Accuracy: {cpu_accuracy:.2f}\")\n",
    "print(f\"GPU Training Time: {gpu_time:.2f} seconds, Accuracy: {gpu_accuracy:.2f}\")"
   ]
  },
  {
   "cell_type": "markdown",
   "id": "6b2668c4-156b-4328-8473-f3ca1c9a1655",
   "metadata": {},
   "source": [
    "# Results\n",
    "\n",
    "CPU Training Time: 470.2 seconds\n",
    "\n",
    "GPU Training Time: 86.3 seconds\n",
    "\n",
    "Ratio: 5.4 times faster"
   ]
  }
 ],
 "metadata": {
  "kernelspec": {
   "display_name": "Python 3 (ipykernel)",
   "language": "python",
   "name": "python3"
  },
  "language_info": {
   "codemirror_mode": {
    "name": "ipython",
    "version": 3
   },
   "file_extension": ".py",
   "mimetype": "text/x-python",
   "name": "python",
   "nbconvert_exporter": "python",
   "pygments_lexer": "ipython3",
   "version": "3.10.9"
  }
 },
 "nbformat": 4,
 "nbformat_minor": 5
}
